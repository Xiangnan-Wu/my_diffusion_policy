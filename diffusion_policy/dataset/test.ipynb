{
 "cells": [
  {
   "cell_type": "code",
   "execution_count": 2,
   "id": "ea7fd231",
   "metadata": {},
   "outputs": [],
   "source": [
    "import os\n",
    "import sys\n",
    "sys.path.append('/home/wxn/Projects/diffusion_policy')\n",
    "\n",
    "from typing import Dict\n",
    "import torch\n",
    "import numpy as np\n",
    "import copy\n",
    "from diffusion_policy.common.pytorch_util import dict_apply\n",
    "from diffusion_policy.common.replay_buffer import ReplayBuffer\n",
    "from diffusion_policy.common.sampler import (\n",
    "    SequenceSampler, get_val_mask, downsample_mask)\n",
    "from diffusion_policy.model.common.normalizer import LinearNormalizer\n",
    "from diffusion_policy.dataset.base_dataset import BaseImageDataset\n",
    "from diffusion_policy.common.normalize_util import get_image_range_normalizer"
   ]
  },
  {
   "cell_type": "code",
   "execution_count": 3,
   "id": "cfe36ce2",
   "metadata": {},
   "outputs": [],
   "source": [
    "import zarr\n",
    "group = zarr.open(\"/home/wxn/Projects/diffusion_policy/data/continuous_data_dev.zarr\", 'r')"
   ]
  },
  {
   "cell_type": "code",
   "execution_count": 4,
   "id": "139145bf",
   "metadata": {},
   "outputs": [
    {
     "name": "stdout",
     "output_type": "stream",
     "text": [
      "/\n",
      " ├── data\n",
      " │   ├── 3rd_bgr (524, 376, 672, 3) uint8\n",
      " │   ├── depth (524, 376, 672) float32\n",
      " │   ├── gripper_states (524,) bool\n",
      " │   ├── pcd (524, 376, 672, 3) float32\n",
      " │   └── poses (524, 7) float32\n",
      " └── meta\n",
      "     ├── episode_ends (10,) int64\n",
      "     ├── episode_lengths (10,) int64\n",
      "     ├── n_episodes () int64\n",
      "     └── total_steps () int64\n"
     ]
    }
   ],
   "source": [
    "print(group.tree())"
   ]
  },
  {
   "cell_type": "code",
   "execution_count": 7,
   "id": "58e6dbd4",
   "metadata": {},
   "outputs": [
    {
     "data": {
      "text/plain": [
       "<zarr.core.Array '/data/poses' (524, 7) float32 read-only>"
      ]
     },
     "execution_count": 7,
     "metadata": {},
     "output_type": "execute_result"
    }
   ],
   "source": [
    "group.data.poses"
   ]
  },
  {
   "cell_type": "code",
   "execution_count": null,
   "id": "befcf369",
   "metadata": {},
   "outputs": [],
   "source": []
  }
 ],
 "metadata": {
  "kernelspec": {
   "display_name": "robodiff",
   "language": "python",
   "name": "python3"
  },
  "language_info": {
   "codemirror_mode": {
    "name": "ipython",
    "version": 3
   },
   "file_extension": ".py",
   "mimetype": "text/x-python",
   "name": "python",
   "nbconvert_exporter": "python",
   "pygments_lexer": "ipython3",
   "version": "3.10.8"
  }
 },
 "nbformat": 4,
 "nbformat_minor": 5
}
